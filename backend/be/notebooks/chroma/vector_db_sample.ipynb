{
 "cells": [
  {
   "cell_type": "markdown",
   "metadata": {},
   "source": [
    "# Add posts and find similar ones\n"
   ]
  },
  {
   "cell_type": "code",
   "execution_count": null,
   "metadata": {},
   "outputs": [],
   "source": [
    "%load_ext autoreload\n",
    "%autoreload 2"
   ]
  },
  {
   "cell_type": "code",
   "execution_count": null,
   "metadata": {},
   "outputs": [],
   "source": [
    "import json\n",
    "from pathlib import Path\n",
    "\n",
    "from be.data.utils import get_resource\n",
    "from be.data.vector_db import VectorDB\n",
    "from be.social.insta.loader import InstaLoader\n",
    "from langchain_core.documents import Document\n",
    "from loguru import logger as lg\n",
    "from py3langid.langid import MODEL_FILE, LanguageIdentifier\n",
    "from langchain_community.embeddings.sentence_transformer import (\n",
    "    SentenceTransformerEmbeddings,\n",
    ")\n",
    "from be.social.insta.structures import PostIg"
   ]
  },
  {
   "cell_type": "code",
   "execution_count": null,
   "metadata": {},
   "outputs": [],
   "source": [
    "posts_fol = get_resource(\"ig_fol\") / \"posts\"\n",
    "chroma_fol = get_resource(\"chroma_fol\") / \"vector\""
   ]
  },
  {
   "cell_type": "code",
   "execution_count": null,
   "metadata": {},
   "outputs": [],
   "source": [
    "# create the open-source embedding function\n",
    "embedding_function = SentenceTransformerEmbeddings(model_name=\"all-MiniLM-L6-v2\")"
   ]
  },
  {
   "cell_type": "code",
   "execution_count": null,
   "metadata": {},
   "outputs": [],
   "source": [
    "vb = VectorDB(\n",
    "    persist_directory=str(chroma_fol),\n",
    "    embedding_function=embedding_function,\n",
    ")"
   ]
  },
  {
   "cell_type": "code",
   "execution_count": null,
   "metadata": {},
   "outputs": [],
   "source": [
    "il = InstaLoader(\"\")"
   ]
  },
  {
   "cell_type": "code",
   "execution_count": null,
   "metadata": {},
   "outputs": [],
   "source": [
    "def post_to_hashtag_docs(post: PostIg) -> list[Document]:\n",
    "    \"\"\"Minimal func to convert a post to a list of hashtag documents.\n",
    "\n",
    "    Generate a list of hashtags as the first 5 words of the caption if needed.\n",
    "    \"\"\"\n",
    "    if len(post.caption_hashtags) == 0:\n",
    "        chs = post.caption.split()[:5]\n",
    "    else:\n",
    "        chs = post.caption_hashtags\n",
    "    unique_chs = list(set(chs))\n",
    "    doc_meta = {\"shortcode\": post.shortcode, \"source\": \"caption_hashtags\"}\n",
    "    phs = [Document(ch, metadata=doc_meta) for ch in unique_chs]\n",
    "    return phs"
   ]
  },
  {
   "cell_type": "code",
   "execution_count": null,
   "metadata": {},
   "outputs": [],
   "source": [
    "doc_captions = []\n",
    "doc_hashtags = []\n",
    "\n",
    "posts_fol_iter = list(posts_fol.iterdir())\n",
    "for ip, post_fol in enumerate(posts_fol_iter):\n",
    "    # get the shortcode\n",
    "    shortcode = post_fol.name\n",
    "    # lg.info(f\"{ip}/{len(posts_fol_iter)} {post_fol} {shortcode}\")\n",
    "\n",
    "    # load the post\n",
    "    ps = il.load_post(shortcode)\n",
    "\n",
    "    # get the metadata\n",
    "    doc_meta = {\"shortcode\": shortcode, \"source\": \"caption\"}\n",
    "    # convert to document caption\n",
    "    doc_captions.append(Document(page_content=ps.caption, metadata=doc_meta))\n",
    "    # convert to document hashtags\n",
    "    doc_hashtags.extend(post_to_hashtag_docs(ps))\n",
    "\n",
    "    # break\n",
    "\n",
    "lg.info(f\"Loaded {len(doc_captions)} captions and {len(doc_hashtags)} hashtags.\")"
   ]
  },
  {
   "cell_type": "code",
   "execution_count": null,
   "metadata": {},
   "outputs": [],
   "source": [
    "doc_hashtags[0]"
   ]
  },
  {
   "cell_type": "code",
   "execution_count": null,
   "metadata": {},
   "outputs": [],
   "source": [
    "new_ids = vb.add_documents(doc_captions)\n",
    "# new_ids\n",
    "len(new_ids)"
   ]
  },
  {
   "cell_type": "code",
   "execution_count": null,
   "metadata": {},
   "outputs": [],
   "source": [
    "new_ids = vb.add_documents(doc_hashtags)\n",
    "# new_ids\n",
    "len(new_ids)"
   ]
  },
  {
   "cell_type": "code",
   "execution_count": null,
   "metadata": {},
   "outputs": [],
   "source": [
    "hash_ = \"5271646f9e574f0b5a5dcdf41c4e707aeff8d3b444a34e29dea277a7cd6ece05\""
   ]
  },
  {
   "cell_type": "code",
   "execution_count": null,
   "metadata": {},
   "outputs": [],
   "source": [
    "# vb.get(ids=\"aaa\")\n",
    "vb.get(ids=hash_, include=[])"
   ]
  },
  {
   "cell_type": "code",
   "execution_count": null,
   "metadata": {},
   "outputs": [],
   "source": [
    "# vb.get(\n",
    "#     where={\n",
    "#         \"shortcode\": shortcode,\n",
    "#         \"source\": \"caption_hashtags\",\n",
    "#     }\n",
    "# )\n",
    "\n",
    "vb.get(\n",
    "    where={\n",
    "        \"$and\": [\n",
    "            {\"shortcode\": shortcode},\n",
    "            {\"source\": \"caption_hashtags\"},\n",
    "        ]\n",
    "    }\n",
    ")"
   ]
  },
  {
   "cell_type": "markdown",
   "metadata": {},
   "source": [
    "## Find similar recipes\n"
   ]
  },
  {
   "cell_type": "code",
   "execution_count": null,
   "metadata": {},
   "outputs": [],
   "source": [
    "query = \"I would like to eat some eggplant based food.\""
   ]
  },
  {
   "cell_type": "markdown",
   "metadata": {},
   "source": [
    "### Using caption\n"
   ]
  },
  {
   "cell_type": "code",
   "execution_count": null,
   "metadata": {},
   "outputs": [],
   "source": [
    "similar = vb.search(\n",
    "    query,\n",
    "    search_type=\"similarity\",\n",
    "    filter={\"source\": \"caption\"},\n",
    ")"
   ]
  },
  {
   "cell_type": "code",
   "execution_count": null,
   "metadata": {},
   "outputs": [],
   "source": [
    "similar"
   ]
  },
  {
   "cell_type": "code",
   "execution_count": null,
   "metadata": {},
   "outputs": [],
   "source": [
    "similar_with_score = vb.similarity_search_with_score(\n",
    "    query,\n",
    "    filter={\"source\": \"caption\"},\n",
    ")\n",
    "similar_with_score"
   ]
  },
  {
   "cell_type": "markdown",
   "metadata": {},
   "source": [
    "### Using hashtags\n"
   ]
  },
  {
   "cell_type": "code",
   "execution_count": null,
   "metadata": {},
   "outputs": [],
   "source": [
    "ps"
   ]
  },
  {
   "cell_type": "code",
   "execution_count": null,
   "metadata": {},
   "outputs": [],
   "source": [
    "# should not be this shortcode\n",
    "# just to test the filter\n",
    "shortcode = ps.shortcode\n",
    "\n",
    "similar_with_score = vb.similarity_search_with_score(\n",
    "    query,\n",
    "    filter={\n",
    "        \"$and\": [\n",
    "            {\"source\": \"caption_hashtags\"},\n",
    "            {\"shortcode\": {\"$ne\": shortcode}},\n",
    "        ],\n",
    "    },\n",
    ")\n",
    "similar_with_score"
   ]
  },
  {
   "cell_type": "code",
   "execution_count": null,
   "metadata": {},
   "outputs": [],
   "source": [
    "# should be similar to these hashtags\n",
    "query_chs = ps.caption_hashtags\n",
    "query_chs"
   ]
  },
  {
   "cell_type": "code",
   "execution_count": null,
   "metadata": {},
   "outputs": [],
   "source": [
    "from collections import Counter\n",
    "\n",
    "cond = {\n",
    "    \"$and\": [\n",
    "        {\"source\": \"caption_hashtags\"},\n",
    "        {\"shortcode\": {\"$ne\": shortcode}},\n",
    "    ],\n",
    "}\n",
    "\n",
    "counter = Counter()\n",
    "\n",
    "for ch in query_chs:\n",
    "    similar_with_score = vb.similarity_search_with_score(ch, filter=cond)\n",
    "    lg.debug(f\"{ch}\")\n",
    "    for sws in similar_with_score:\n",
    "        lg.debug(sws)\n",
    "    upd = {doc.metadata[\"shortcode\"]: 1 - score for doc, score in similar_with_score}\n",
    "    counter.update(upd)\n",
    "    # break"
   ]
  },
  {
   "cell_type": "code",
   "execution_count": null,
   "metadata": {},
   "outputs": [],
   "source": [
    "# upd\n",
    "counter.most_common(5)"
   ]
  },
  {
   "cell_type": "code",
   "execution_count": null,
   "metadata": {},
   "outputs": [],
   "source": [
    "ps_similar = [il.load_post(shortcode) for shortcode, _ in counter.most_common(5)]\n",
    "lg.debug(ps_similar[1].caption)"
   ]
  },
  {
   "cell_type": "markdown",
   "metadata": {},
   "source": [
    "### Using both\n"
   ]
  },
  {
   "cell_type": "code",
   "execution_count": null,
   "metadata": {},
   "outputs": [],
   "source": [
    "long_query = \"\"\"I would like to eat some eggplant based food.\n",
    "I am looking for a recipe that is easy to make and delicious.\n",
    "I would like to eat some high protein food.\"\"\"\n",
    "\n",
    "long_query = \"\"\"I would like to eat some fish based food.\n",
    "I am looking for a recipe that is easy to make and delicious.\n",
    "I would like to eat some food that is low in sugar.\"\"\"\n",
    "\n",
    "\n",
    "long_query = \"\"\"I would like to eat some meat based dish.\n",
    "I am looking for a recipe that is easy to make and delicious.\n",
    "I am not a vegetarian.\"\"\"\n",
    "# Chickpea and Sweet Potato Curry <- this is a bad match"
   ]
  },
  {
   "cell_type": "code",
   "execution_count": null,
   "metadata": {},
   "outputs": [],
   "source": [
    "# use the similarity search using chunks of the query\n",
    "\n",
    "# split the query into chunks\n",
    "#   - split by new line\n",
    "#   - split by sentence\n",
    "#   - split by punctuation\n",
    "\n",
    "query_chunks = long_query.split(\"\\n\")\n",
    "query_chunks"
   ]
  },
  {
   "cell_type": "code",
   "execution_count": null,
   "metadata": {},
   "outputs": [],
   "source": [
    "# use the captions\n",
    "cond = {\"source\": \"caption\"}\n",
    "\n",
    "counter = Counter()\n",
    "\n",
    "for chunk in query_chunks:\n",
    "    similar_with_score = vb.similarity_search_with_score(chunk, filter=cond)\n",
    "    lg.debug(f\"{chunk}\")\n",
    "    for sws in similar_with_score:\n",
    "        doc, score = sws\n",
    "        caption_begin = doc.page_content[:100].replace(\"\\n\", \"\")\n",
    "        lg.debug(f\"{score:.2f} {caption_begin}... \")\n",
    "    upd = {doc.metadata[\"shortcode\"]: score for doc, score in similar_with_score}\n",
    "    counter.update(upd)\n",
    "    # cmc = counter.most_common(5)\n",
    "    # lg.debug(cmc)\n",
    "\n",
    "cmc = counter.most_common(5)\n",
    "lg.info(cmc)\n",
    "ps_similar = [il.load_post(shortcode) for shortcode, _ in cmc]\n",
    "lg.info(ps_similar[1].caption)\n",
    "# ps_similar[1].caption_hashtags"
   ]
  },
  {
   "cell_type": "code",
   "execution_count": null,
   "metadata": {},
   "outputs": [],
   "source": [
    "counter.most_common(5)"
   ]
  },
  {
   "cell_type": "code",
   "execution_count": null,
   "metadata": {},
   "outputs": [],
   "source": [
    "# the trick is probably in the negative filter\n",
    "# how to recognize that an adjective is a negative one\n",
    "# eg \"high protein\" vs \"low protein\"\n",
    "\n",
    "# also we should probably normalize the results when using hashtags"
   ]
  }
 ],
 "metadata": {
  "kernelspec": {
   "display_name": "be-3ZtQLT1j-py3.11",
   "language": "python",
   "name": "python3"
  },
  "language_info": {
   "codemirror_mode": {
    "name": "ipython",
    "version": 3
   },
   "file_extension": ".py",
   "mimetype": "text/x-python",
   "name": "python",
   "nbconvert_exporter": "python",
   "pygments_lexer": "ipython3",
   "version": "3.11.9"
  }
 },
 "nbformat": 4,
 "nbformat_minor": 2
}
