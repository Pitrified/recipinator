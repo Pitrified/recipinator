{
 "cells": [
  {
   "cell_type": "markdown",
   "metadata": {},
   "source": [
    "# Add posts and find similar ones\n"
   ]
  },
  {
   "cell_type": "code",
   "execution_count": null,
   "metadata": {},
   "outputs": [],
   "source": [
    "%load_ext autoreload\n",
    "%autoreload 2"
   ]
  },
  {
   "cell_type": "code",
   "execution_count": null,
   "metadata": {},
   "outputs": [],
   "source": [
    "import json\n",
    "from pathlib import Path\n",
    "\n",
    "from be.data.utils import get_resource\n",
    "from be.data.vector_db import VectorDB\n",
    "from be.social.insta.loader import InstaLoader\n",
    "from langchain_core.documents import Document\n",
    "from loguru import logger as lg\n",
    "from py3langid.langid import MODEL_FILE, LanguageIdentifier\n",
    "from langchain_community.embeddings.sentence_transformer import (\n",
    "    SentenceTransformerEmbeddings,\n",
    ")\n",
    "from be.social.insta.structures import PostIg"
   ]
  },
  {
   "cell_type": "code",
   "execution_count": null,
   "metadata": {},
   "outputs": [],
   "source": [
    "posts_fol = get_resource(\"ig_fol\") / \"posts\"\n",
    "chroma_fol = get_resource(\"chroma_fol\") / \"vector\""
   ]
  },
  {
   "cell_type": "code",
   "execution_count": null,
   "metadata": {},
   "outputs": [],
   "source": [
    "# create the open-source embedding function\n",
    "embedding_function = SentenceTransformerEmbeddings(model_name=\"all-MiniLM-L6-v2\")"
   ]
  },
  {
   "cell_type": "code",
   "execution_count": null,
   "metadata": {},
   "outputs": [],
   "source": [
    "vb = VectorDB(\n",
    "    persist_directory=str(chroma_fol),\n",
    "    embedding_function=embedding_function,\n",
    ")"
   ]
  },
  {
   "cell_type": "code",
   "execution_count": null,
   "metadata": {},
   "outputs": [],
   "source": [
    "il = InstaLoader(\"\")"
   ]
  },
  {
   "cell_type": "code",
   "execution_count": null,
   "metadata": {},
   "outputs": [],
   "source": [
    "def post_to_hashtag_docs(post: PostIg) -> list[Document]:\n",
    "    \"\"\"Minimal func to convert a post to a list of hashtag documents.\n",
    "\n",
    "    Generate a list of hashtags as the first 5 words of the caption if needed.\n",
    "    \"\"\"\n",
    "    if len(post.caption_hashtags) == 0:\n",
    "        chs = post.caption.split()[:5]\n",
    "    else:\n",
    "        chs = post.caption_hashtags\n",
    "    doc_meta = {\"shortcode\": post.shortcode, \"source\": \"caption_hashtags\"}\n",
    "    phs = [Document(ch, metadata=doc_meta) for ch in chs]\n",
    "    return phs"
   ]
  },
  {
   "cell_type": "code",
   "execution_count": null,
   "metadata": {},
   "outputs": [],
   "source": [
    "doc_captions = []\n",
    "doc_hashtags = []\n",
    "\n",
    "posts_fol_iter = list(posts_fol.iterdir())\n",
    "for ip, post_fol in enumerate(posts_fol_iter):\n",
    "    # get the shortcode\n",
    "    shortcode = post_fol.name\n",
    "    lg.info(f\"{ip}/{len(posts_fol_iter)} {post_fol} {shortcode}\")\n",
    "\n",
    "    # load the post\n",
    "    ps = il.load_post(shortcode)\n",
    "\n",
    "    # get the metadata\n",
    "    doc_meta = {\"shortcode\": shortcode, \"source\": \"caption\"}\n",
    "    # convert to document caption\n",
    "    doc_captions.append(Document(page_content=ps.caption, metadata=doc_meta))\n",
    "    # convert to document hashtags\n",
    "    doc_hashtags.extend(post_to_hashtag_docs(ps))\n",
    "\n",
    "    break"
   ]
  },
  {
   "cell_type": "code",
   "execution_count": null,
   "metadata": {},
   "outputs": [],
   "source": [
    "doc_hashtags[0]"
   ]
  },
  {
   "cell_type": "code",
   "execution_count": null,
   "metadata": {},
   "outputs": [],
   "source": [
    "new_ids = vb.add_documents(doc_captions)\n",
    "new_ids"
   ]
  },
  {
   "cell_type": "code",
   "execution_count": null,
   "metadata": {},
   "outputs": [],
   "source": [
    "new_ids = vb.add_documents(doc_hashtags)\n",
    "new_ids"
   ]
  },
  {
   "cell_type": "code",
   "execution_count": null,
   "metadata": {},
   "outputs": [],
   "source": [
    "hash_ = \"5271646f9e574f0b5a5dcdf41c4e707aeff8d3b444a34e29dea277a7cd6ece05\""
   ]
  },
  {
   "cell_type": "code",
   "execution_count": null,
   "metadata": {},
   "outputs": [],
   "source": [
    "# vb.get(ids=\"aaa\")\n",
    "vb.get(ids=hash_, include=[])"
   ]
  },
  {
   "cell_type": "code",
   "execution_count": null,
   "metadata": {},
   "outputs": [],
   "source": [
    "# vb.get(\n",
    "#     where={\n",
    "#         \"shortcode\": shortcode,\n",
    "#         \"source\": \"caption_hashtags\",\n",
    "#     }\n",
    "# )\n",
    "\n",
    "vb.get(\n",
    "    where={\n",
    "        \"$and\": [\n",
    "            {\"shortcode\": shortcode},\n",
    "            {\"source\": \"caption_hashtags\"},\n",
    "        ]\n",
    "    }\n",
    ")"
   ]
  }
 ],
 "metadata": {
  "kernelspec": {
   "display_name": "be-3ZtQLT1j-py3.11",
   "language": "python",
   "name": "python3"
  },
  "language_info": {
   "codemirror_mode": {
    "name": "ipython",
    "version": 3
   },
   "file_extension": ".py",
   "mimetype": "text/x-python",
   "name": "python",
   "nbconvert_exporter": "python",
   "pygments_lexer": "ipython3",
   "version": "3.11.9"
  }
 },
 "nbformat": 4,
 "nbformat_minor": 2
}
