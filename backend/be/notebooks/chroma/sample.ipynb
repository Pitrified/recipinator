{
 "cells": [
  {
   "cell_type": "markdown",
   "metadata": {},
   "source": [
    "# Sample use of a chroma db\n"
   ]
  },
  {
   "cell_type": "code",
   "execution_count": null,
   "metadata": {},
   "outputs": [],
   "source": [
    "%load_ext autoreload\n",
    "%autoreload 2"
   ]
  },
  {
   "cell_type": "code",
   "execution_count": null,
   "metadata": {},
   "outputs": [],
   "source": [
    "from pathlib import Path\n",
    "\n",
    "from be.data.utils import get_resource\n",
    "from loguru import logger as lg"
   ]
  },
  {
   "cell_type": "markdown",
   "metadata": {},
   "source": [
    "### Minimal\n",
    "\n",
    "https://docs.trychroma.com/getting-started\n"
   ]
  },
  {
   "cell_type": "code",
   "execution_count": null,
   "metadata": {},
   "outputs": [],
   "source": [
    "import chromadb"
   ]
  },
  {
   "cell_type": "code",
   "execution_count": null,
   "metadata": {},
   "outputs": [],
   "source": [
    "chroma_fol = get_resource(\"chroma_fol\")"
   ]
  },
  {
   "cell_type": "code",
   "execution_count": null,
   "metadata": {},
   "outputs": [],
   "source": [
    "client = chromadb.PersistentClient(path=str(chroma_fol))"
   ]
  },
  {
   "cell_type": "code",
   "execution_count": null,
   "metadata": {},
   "outputs": [],
   "source": [
    "# client.heartbeat() # returns a nanosecond heartbeat. Useful for making sure the client remains connected.\n",
    "# client.reset() # Empties and completely resets the database. ⚠️ This is destructive and not reversible."
   ]
  },
  {
   "cell_type": "code",
   "execution_count": null,
   "metadata": {},
   "outputs": [],
   "source": [
    "collection = client.create_collection(name=\"my_collection\")"
   ]
  },
  {
   "cell_type": "code",
   "execution_count": null,
   "metadata": {},
   "outputs": [],
   "source": [
    "collection.add(\n",
    "    documents=[\n",
    "        \"This is a document about pineapple\",\n",
    "        \"This is a document about oranges\",\n",
    "    ],\n",
    "    ids=[\"id1\", \"id2\"],\n",
    ")"
   ]
  },
  {
   "cell_type": "code",
   "execution_count": null,
   "metadata": {},
   "outputs": [],
   "source": [
    "results = collection.query(\n",
    "    query_texts=[\n",
    "        \"This is a query document about hawaii\"\n",
    "    ],  # Chroma will embed this for you\n",
    "    n_results=2,  # how many results to return\n",
    ")\n",
    "print(results)"
   ]
  },
  {
   "cell_type": "code",
   "execution_count": null,
   "metadata": {},
   "outputs": [],
   "source": [
    "collection.peek()  # returns a list of the first 10 items in the collection\n",
    "collection.count()  # returns the number of items in the collection\n",
    "# collection.modify(name=\"new_name\") # Rename the collection"
   ]
  },
  {
   "cell_type": "markdown",
   "metadata": {},
   "source": [
    "### Guides\n",
    "\n",
    "https://docs.trychroma.com/guides\n"
   ]
  },
  {
   "cell_type": "markdown",
   "metadata": {},
   "source": [
    "#### Adding data\n",
    "\n",
    "https://docs.trychroma.com/guides#adding-data-to-a-collection\n"
   ]
  },
  {
   "cell_type": "code",
   "execution_count": null,
   "metadata": {},
   "outputs": [],
   "source": [
    "# add documents with metadata\n",
    "collection.add(\n",
    "    documents=[\"lorem ipsum...\", \"doc2\", \"doc3\"],\n",
    "    metadatas=[\n",
    "        {\"chapter\": \"3\", \"verse\": \"16\"},\n",
    "        {\"chapter\": \"3\", \"verse\": \"5\"},\n",
    "        {\"chapter\": \"29\", \"verse\": \"11\"},\n",
    "    ],\n",
    "    ids=[\"id1\", \"id2\", \"id3\"],\n",
    ")\n",
    "\n",
    "# if you supply the embeddings, Chroma will not calculate them\n",
    "# embeddings=[[1.1, 2.3, 3.2], [4.5, 6.9, 4.4], [1.1, 2.3, 3.2], ...],\n",
    "\n",
    "# actually documents are optional, you can store IDs and embeddings only"
   ]
  },
  {
   "cell_type": "markdown",
   "metadata": {},
   "source": [
    "#### Querying\n",
    "\n",
    "https://docs.trychroma.com/guides#querying-a-collection\n"
   ]
  },
  {
   "cell_type": "code",
   "execution_count": null,
   "metadata": {},
   "outputs": [],
   "source": [
    "# query using embeddings\n",
    "collection.query(\n",
    "    query_embeddings=[[11.1, 12.1, 13.1], [1.1, 2.3, 3.2]],\n",
    "    n_results=10,\n",
    "    where={\"metadata_field\": \"is_equal_to_this\"},\n",
    "    where_document={\"$contains\": \"search_string\"},\n",
    ")"
   ]
  },
  {
   "cell_type": "code",
   "execution_count": null,
   "metadata": {},
   "outputs": [],
   "source": [
    "# query using text, they will be embedded on the spot\n",
    "collection.query(\n",
    "    query_texts=[\"doc10\", \"thus spake zarathustra\"],\n",
    "    n_results=10,\n",
    "    where={\"metadata_field\": \"is_equal_to_this\"},\n",
    "    where_document={\"$contains\": \"search_string\"},\n",
    ")"
   ]
  },
  {
   "cell_type": "code",
   "execution_count": null,
   "metadata": {},
   "outputs": [],
   "source": [
    "# query using IDs\n",
    "collection.get(\n",
    "    ids=[\"id1\", \"id2\", \"id3\"],\n",
    "    where={\"style\": \"style1\"},\n",
    ")\n",
    "\n",
    "# .get also supports the where and where_document filters. If no ids are supplied, it will return all items in the collection that match the where and where_document filters."
   ]
  },
  {
   "cell_type": "code",
   "execution_count": null,
   "metadata": {},
   "outputs": [],
   "source": [
    "# Choosing which data is returned\n",
    "\n",
    "# When using get or query you can use the include parameter to specify which\n",
    "# data you want returned - any of embeddings, documents, metadatas, and for\n",
    "# query, distances.\n",
    "# By default, Chroma will return the documents, metadatas and in the case of\n",
    "# query, the distances of the results.\n",
    "# embeddings are excluded by default for performance and the ids are always returned.\n",
    "# You can specify which of these you want returned by passing an array of\n",
    "# included field names to the includes parameter of the query or get method.\n",
    "\n",
    "collection.get(include=[\"documents\"])\n",
    "\n",
    "collection.query(\n",
    "    query_embeddings=[[11.1, 12.1, 13.1], [1.1, 2.3, 3.2]],\n",
    "    include=[\"documents\"],\n",
    ")"
   ]
  },
  {
   "cell_type": "markdown",
   "metadata": {},
   "source": [
    "#### Using Where filters\n",
    "\n",
    "https://docs.trychroma.com/guides#using-where-filters\n"
   ]
  },
  {
   "cell_type": "markdown",
   "metadata": {},
   "source": [
    "### Hashed\n"
   ]
  },
  {
   "cell_type": "code",
   "execution_count": null,
   "metadata": {},
   "outputs": [],
   "source": [
    "import hashlib\n",
    "from typing import Any\n",
    "\n",
    "from chromadb.api.types import ID, Document, OneOrMany\n",
    "\n",
    "\n",
    "class HashedCollection:\n",
    "    def __init__(self, collection) -> None:\n",
    "        self.collection = collection\n",
    "\n",
    "    def generate_id(self, document) -> ID:\n",
    "        return hashlib.md5(document.encode(\"utf-8\")).hexdigest()\n",
    "\n",
    "    def add(\n",
    "        self,\n",
    "        documents: OneOrMany[Document],\n",
    "        ids: OneOrMany[ID] | None = None,\n",
    "        *args,\n",
    "        **kwargs,\n",
    "    ) -> None:\n",
    "        # generate IDs if they are not provided\n",
    "        if ids is None:\n",
    "            ids = [self.generate_id(doc) for doc in documents]\n",
    "        elif len(ids) != len(documents):\n",
    "            raise ValueError(\"The number of ids must match the number of documents\")\n",
    "\n",
    "        self.collection.add(documents=documents, ids=ids, *args, **kwargs)\n",
    "\n",
    "    def __getattr__(self, name) -> Any:\n",
    "        # delegate attribute access to the original collection\n",
    "        return getattr(self.collection, name)\n",
    "\n",
    "    # def get_doc"
   ]
  }
 ],
 "metadata": {
  "kernelspec": {
   "display_name": "be-3ZtQLT1j-py3.11",
   "language": "python",
   "name": "python3"
  },
  "language_info": {
   "codemirror_mode": {
    "name": "ipython",
    "version": 3
   },
   "file_extension": ".py",
   "mimetype": "text/x-python",
   "name": "python",
   "nbconvert_exporter": "python",
   "pygments_lexer": "ipython3",
   "version": "3.11.3"
  }
 },
 "nbformat": 4,
 "nbformat_minor": 2
}
