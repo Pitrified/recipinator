{
 "cells": [
  {
   "cell_type": "markdown",
   "metadata": {},
   "source": [
    "# Batch identify languages in the post\n"
   ]
  },
  {
   "cell_type": "code",
   "execution_count": null,
   "metadata": {},
   "outputs": [],
   "source": [
    "%load_ext autoreload\n",
    "%autoreload 2"
   ]
  },
  {
   "cell_type": "code",
   "execution_count": null,
   "metadata": {},
   "outputs": [],
   "source": [
    "import json\n",
    "from pathlib import Path\n",
    "\n",
    "from be.data.utils import get_resource\n",
    "from be.social.insta.loader import InstaLoader\n",
    "from loguru import logger as lg\n",
    "from py3langid.langid import MODEL_FILE, LanguageIdentifier"
   ]
  },
  {
   "cell_type": "code",
   "execution_count": null,
   "metadata": {},
   "outputs": [],
   "source": [
    "# normalization of probabilities to an interval between 0 and 1\n",
    "identifier_norm = LanguageIdentifier.from_pickled_model(MODEL_FILE, norm_probs=True)\n",
    "# identifier_norm.classify(\"This should be enough text.\")\n",
    "# (\"en\", 1.0)\n",
    "# identifier_norm.rank(\"This should be enough text.\")"
   ]
  },
  {
   "cell_type": "code",
   "execution_count": null,
   "metadata": {},
   "outputs": [],
   "source": [
    "posts_fol = get_resource(\"ig_fol\") / \"posts\""
   ]
  },
  {
   "cell_type": "code",
   "execution_count": null,
   "metadata": {},
   "outputs": [],
   "source": [
    "TRANSCRIPT_MODEL_TYPE = \"medium\""
   ]
  },
  {
   "cell_type": "code",
   "execution_count": null,
   "metadata": {},
   "outputs": [],
   "source": [
    "il = InstaLoader(\"\")"
   ]
  },
  {
   "cell_type": "code",
   "execution_count": null,
   "metadata": {},
   "outputs": [],
   "source": [
    "posts_fol_iter = list(posts_fol.iterdir())\n",
    "for ip, post_fol in enumerate(posts_fol_iter):\n",
    "    # get the shortcode\n",
    "    shortcode = post_fol.name\n",
    "    lg.info(f\"{ip}/{len(posts_fol_iter)} {post_fol} {shortcode}\")\n",
    "\n",
    "    # check if language is already detected\n",
    "    lang_fp = post_fol / f\"language.json\"\n",
    "    if lang_fp.exists():\n",
    "        lg.info(f\"Language already detected {lang_fp}\")\n",
    "        continue\n",
    "\n",
    "    # load the post\n",
    "    ps = il.load_post(shortcode)\n",
    "\n",
    "    # load the transcript if available\n",
    "    transcript_fp = post_fol / f\"p_transcript_{TRANSCRIPT_MODEL_TYPE}.txt\"\n",
    "    if not transcript_fp.exists():\n",
    "        lg.info(f\"Transcript not found {transcript_fp}\")\n",
    "    else:\n",
    "        transcript_txt = \"\"\n",
    "\n",
    "    # build the post content\n",
    "    post_content = f\"{ps.caption}\\n{transcript_txt}\"\n",
    "\n",
    "    # detect the language\n",
    "    lang_rank = identifier_norm.rank(post_content)\n",
    "    lang_rank_top_k = lang_rank[:5]\n",
    "\n",
    "    # dump the lang rank as json\n",
    "    lang_rank_json = json.dumps(lang_rank_top_k, indent=4)\n",
    "    # lg.debug(lang_rank_json)\n",
    "\n",
    "    # check if the language is not 100% just to see whats going on\n",
    "    if lang_rank[0][1] < 0.99:\n",
    "        lg.debug(f\"Language not 100% {lang_rank_top_k} {shortcode}\")\n",
    "        continue\n",
    "\n",
    "    # break"
   ]
  }
 ],
 "metadata": {
  "kernelspec": {
   "display_name": "be-3ZtQLT1j-py3.11",
   "language": "python",
   "name": "python3"
  },
  "language_info": {
   "codemirror_mode": {
    "name": "ipython",
    "version": 3
   },
   "file_extension": ".py",
   "mimetype": "text/x-python",
   "name": "python",
   "nbconvert_exporter": "python",
   "pygments_lexer": "ipython3",
   "version": "3.11.3"
  }
 },
 "nbformat": 4,
 "nbformat_minor": 2
}
