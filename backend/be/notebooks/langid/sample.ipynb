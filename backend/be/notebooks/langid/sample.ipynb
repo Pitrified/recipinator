{
 "cells": [
  {
   "cell_type": "markdown",
   "metadata": {},
   "source": [
    "# Sample use of langid\n"
   ]
  },
  {
   "cell_type": "markdown",
   "metadata": {},
   "source": [
    "- https://github.com/adbar/py3langid\n"
   ]
  },
  {
   "cell_type": "code",
   "execution_count": null,
   "metadata": {},
   "outputs": [],
   "source": [
    "%load_ext autoreload\n",
    "%autoreload 2"
   ]
  },
  {
   "cell_type": "code",
   "execution_count": null,
   "metadata": {},
   "outputs": [],
   "source": [
    "import py3langid as langid"
   ]
  },
  {
   "cell_type": "code",
   "execution_count": null,
   "metadata": {},
   "outputs": [],
   "source": [
    "text = \"This text is in English.\""
   ]
  },
  {
   "cell_type": "code",
   "execution_count": null,
   "metadata": {},
   "outputs": [],
   "source": [
    "# identified language and probability\n",
    "langid.classify(text)\n",
    "(\"en\", -56.77429)"
   ]
  },
  {
   "cell_type": "code",
   "execution_count": null,
   "metadata": {},
   "outputs": [],
   "source": [
    "# unpack the result tuple in variables\n",
    "lang, prob = langid.classify(text)"
   ]
  },
  {
   "cell_type": "code",
   "execution_count": null,
   "metadata": {},
   "outputs": [],
   "source": [
    "# all potential languages\n",
    "all_langs = langid.rank(text)\n",
    "all_langs[:5]"
   ]
  },
  {
   "cell_type": "code",
   "execution_count": 9,
   "metadata": {},
   "outputs": [],
   "source": [
    "from py3langid.langid import LanguageIdentifier, MODEL_FILE"
   ]
  },
  {
   "cell_type": "code",
   "execution_count": 10,
   "metadata": {},
   "outputs": [],
   "source": [
    "# subset of target languages\n",
    "identifier = LanguageIdentifier.from_pickled_model(MODEL_FILE)\n",
    "identifier.set_languages([\"de\", \"en\", \"fr\"])"
   ]
  },
  {
   "cell_type": "code",
   "execution_count": 11,
   "metadata": {},
   "outputs": [
    {
     "data": {
      "text/plain": [
       "('en', -81.831665)"
      ]
     },
     "execution_count": 11,
     "metadata": {},
     "output_type": "execute_result"
    }
   ],
   "source": [
    "# this won't work well...\n",
    "identifier.classify(\"这样不好\")\n",
    "# (\"en\", -81.831665)"
   ]
  },
  {
   "cell_type": "code",
   "execution_count": 14,
   "metadata": {},
   "outputs": [
    {
     "data": {
      "text/plain": [
       "('en', 1.0)"
      ]
     },
     "execution_count": 14,
     "metadata": {},
     "output_type": "execute_result"
    }
   ],
   "source": [
    "# normalization of probabilities to an interval between 0 and 1\n",
    "identifier_norm = LanguageIdentifier.from_pickled_model(MODEL_FILE, norm_probs=True)\n",
    "identifier_norm.classify(\"This should be enough text.\")\n",
    "# (\"en\", 1.0)"
   ]
  },
  {
   "cell_type": "code",
   "execution_count": 15,
   "metadata": {},
   "outputs": [
    {
     "data": {
      "text/plain": [
       "[('en', 1.0),\n",
       " ('la', 4.489743797291232e-17),\n",
       " ('id', 1.2762339611472798e-19),\n",
       " ('sw', 1.0073989695978387e-19),\n",
       " ('br', 2.233110903817139e-20),\n",
       " ('af', 4.079475854836454e-21),\n",
       " ('ms', 1.3057303453349006e-21),\n",
       " ('se', 1.0114720505549024e-21),\n",
       " ('tl', 1.1760205846402767e-22),\n",
       " ('ht', 4.010315775565229e-23),\n",
       " ('rw', 1.185519416572224e-23),\n",
       " ('he', 6.4102478226547544e-24),\n",
       " ('lo', 5.146300959290725e-24),\n",
       " ('zu', 1.1843480370140613e-24),\n",
       " ('qu', 7.202531792558746e-25),\n",
       " ('no', 3.378232238622368e-25),\n",
       " ('lb', 3.073897836516187e-25),\n",
       " ('fo', 1.3724057221972495e-25),\n",
       " ('it', 8.277198236336495e-26),\n",
       " ('de', 1.7004768873117728e-26),\n",
       " ('ku', 1.4593412138107578e-26),\n",
       " ('es', 1.4166883366671937e-26),\n",
       " ('nl', 1.2923720239473264e-26),\n",
       " ('jv', 1.2624535496704462e-26),\n",
       " ('az', 6.29995990044963e-27),\n",
       " ('fr', 1.9323169058618072e-27),\n",
       " ('pt', 1.0050304599634434e-27),\n",
       " ('an', 2.229798837670279e-28),\n",
       " ('ga', 9.191379687113451e-29),\n",
       " ('xh', 7.115457114951122e-29),\n",
       " ('wa', 6.118109478425331e-29),\n",
       " ('oc', 4.7065469730087626e-29),\n",
       " ('da', 1.7897597760083206e-29),\n",
       " ('sq', 1.499398753502102e-29),\n",
       " ('mg', 8.031828274648767e-30),\n",
       " ('is', 7.612624795812196e-30),\n",
       " ('ar', 7.354018295580447e-30),\n",
       " ('cy', 4.986390236301112e-30),\n",
       " ('as', 4.700462238090714e-30),\n",
       " ('hr', 4.116553004715231e-30),\n",
       " ('ky', 2.6271221047657292e-30),\n",
       " ('tr', 1.0926604612644751e-30),\n",
       " ('lt', 3.5274312062102358e-31),\n",
       " ('zh', 1.8192327907012335e-31),\n",
       " ('eo', 1.1700236001135606e-31),\n",
       " ('vo', 3.0012034100999414e-32),\n",
       " ('ca', 1.440674415297875e-32),\n",
       " ('bn', 3.817989488423466e-33),\n",
       " ('nn', 3.1816396623676516e-33),\n",
       " ('sl', 2.0439031084487376e-33),\n",
       " ('sv', 1.4398220716909335e-33),\n",
       " ('gl', 9.014163634910514e-34),\n",
       " ('am', 6.8687137939270625e-34),\n",
       " ('mt', 3.245145239575597e-34),\n",
       " ('bs', 1.6571546533985324e-34),\n",
       " ('ko', 1.0460317855897037e-34),\n",
       " ('lv', 6.327198214403034e-35),\n",
       " ('pl', 1.9330754921517339e-35),\n",
       " ('et', 1.9136474059535853e-35),\n",
       " ('si', 1.6374540166669425e-35),\n",
       " ('nb', 1.5780673016397127e-35),\n",
       " ('eu', 1.1405656525628534e-35),\n",
       " ('ps', 5.381406537388146e-36),\n",
       " ('ro', 2.378021699628863e-36),\n",
       " ('cs', 1.777716378850521e-36),\n",
       " ('fi', 1.674398575813526e-36),\n",
       " ('hu', 3.8523454815160413e-38),\n",
       " ('km', 8.320227848808638e-39),\n",
       " ('hy', 7.691549305773952e-39),\n",
       " ('ka', 6.571405964032802e-39),\n",
       " ('vi', 0.0),\n",
       " ('ur', 0.0),\n",
       " ('uk', 0.0),\n",
       " ('ug', 0.0),\n",
       " ('th', 0.0),\n",
       " ('te', 0.0),\n",
       " ('ta', 0.0),\n",
       " ('sr', 0.0),\n",
       " ('sk', 0.0),\n",
       " ('ru', 0.0),\n",
       " ('pa', 0.0),\n",
       " ('or', 0.0),\n",
       " ('ne', 0.0),\n",
       " ('mr', 0.0),\n",
       " ('mn', 0.0),\n",
       " ('ml', 0.0),\n",
       " ('mk', 0.0),\n",
       " ('kn', 0.0),\n",
       " ('kk', 0.0),\n",
       " ('ja', 0.0),\n",
       " ('hi', 0.0),\n",
       " ('gu', 0.0),\n",
       " ('fa', 0.0),\n",
       " ('el', 0.0),\n",
       " ('dz', 0.0),\n",
       " ('bg', 0.0),\n",
       " ('be', 0.0)]"
      ]
     },
     "execution_count": 15,
     "metadata": {},
     "output_type": "execute_result"
    }
   ],
   "source": [
    "identifier_norm.rank(\"This should be enough text.\")\n",
    "# [('en', 1.0),\n",
    "#  ('la', 4.489743797291232e-17),\n",
    "#  ('id', 1.2762339611472798e-19),\n",
    "#  ('sw', 1.0073989695978387e-19),\n",
    "#  ...]"
   ]
  }
 ],
 "metadata": {
  "kernelspec": {
   "display_name": "be-3ZtQLT1j-py3.11",
   "language": "python",
   "name": "python3"
  },
  "language_info": {
   "codemirror_mode": {
    "name": "ipython",
    "version": 3
   },
   "file_extension": ".py",
   "mimetype": "text/x-python",
   "name": "python",
   "nbconvert_exporter": "python",
   "pygments_lexer": "ipython3",
   "version": "3.11.9"
  }
 },
 "nbformat": 4,
 "nbformat_minor": 2
}
