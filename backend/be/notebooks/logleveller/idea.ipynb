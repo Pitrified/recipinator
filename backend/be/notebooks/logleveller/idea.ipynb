{
 "cells": [
  {
   "cell_type": "markdown",
   "metadata": {},
   "source": [
    "# a decorator to set the log level of a function\n"
   ]
  },
  {
   "cell_type": "code",
   "execution_count": 2,
   "metadata": {},
   "outputs": [],
   "source": [
    "from loguru import logger as lg"
   ]
  },
  {
   "cell_type": "code",
   "execution_count": 3,
   "metadata": {},
   "outputs": [],
   "source": [
    "from functools import wraps"
   ]
  },
  {
   "cell_type": "markdown",
   "metadata": {},
   "source": [
    "### Basic\n"
   ]
  },
  {
   "cell_type": "code",
   "execution_count": 4,
   "metadata": {},
   "outputs": [
    {
     "name": "stderr",
     "output_type": "stream",
     "text": [
      "\u001b[32m2024-06-11 00:21:16.708\u001b[0m | \u001b[34m\u001b[1mDEBUG   \u001b[0m | \u001b[36m__main__\u001b[0m:\u001b[36mwrapper\u001b[0m:\u001b[36m4\u001b[0m - \u001b[34m\u001b[1mFunction sample called with args: (1,) and kwargs: {}\u001b[0m\n",
      "\u001b[32m2024-06-11 00:21:16.709\u001b[0m | \u001b[1mINFO    \u001b[0m | \u001b[36m__main__\u001b[0m:\u001b[36msample\u001b[0m:\u001b[36m14\u001b[0m - \u001b[1mFunction sample called with arg: 1\u001b[0m\n",
      "\u001b[32m2024-06-11 00:21:16.710\u001b[0m | \u001b[34m\u001b[1mDEBUG   \u001b[0m | \u001b[36m__main__\u001b[0m:\u001b[36msample\u001b[0m:\u001b[36m16\u001b[0m - \u001b[34m\u001b[1mFunction sample returning: 2\u001b[0m\n"
     ]
    },
    {
     "data": {
      "text/plain": [
       "2"
      ]
     },
     "execution_count": 4,
     "metadata": {},
     "output_type": "execute_result"
    }
   ],
   "source": [
    "def log_leveller(func):\n",
    "    @wraps(func)\n",
    "    def wrapper(*args, **kwargs):\n",
    "        lg.debug(\n",
    "            f\"Function {func.__name__} called with args: {args} and kwargs: {kwargs}\",\n",
    "        )\n",
    "        return func(*args, **kwargs)\n",
    "\n",
    "    return wrapper\n",
    "\n",
    "\n",
    "@log_leveller\n",
    "def sample(a: int) -> int:\n",
    "    lg.info(f\"Function sample called with arg: {a}\")\n",
    "    b = a + 1\n",
    "    lg.debug(f\"Function sample returning: {b}\")\n",
    "    return b\n",
    "\n",
    "\n",
    "sample(1)"
   ]
  },
  {
   "cell_type": "markdown",
   "metadata": {},
   "source": [
    "### With params\n"
   ]
  },
  {
   "cell_type": "markdown",
   "metadata": {},
   "source": [
    "- https://realpython.com/primer-on-python-decorators/#defining-decorators-with-arguments\n"
   ]
  },
  {
   "cell_type": "code",
   "execution_count": 5,
   "metadata": {},
   "outputs": [
    {
     "name": "stdout",
     "output_type": "stream",
     "text": [
      "Hello World\n",
      "Hello World\n",
      "Hello World\n",
      "Hello World\n"
     ]
    }
   ],
   "source": [
    "def repeat(num_times):\n",
    "    def decorator_repeat(func):\n",
    "        @wraps(func)\n",
    "        def wrapper_repeat(*args, **kwargs):\n",
    "            for _ in range(num_times):\n",
    "                value = func(*args, **kwargs)\n",
    "            return value\n",
    "\n",
    "        return wrapper_repeat\n",
    "\n",
    "    return decorator_repeat\n",
    "\n",
    "\n",
    "@repeat(num_times=4)\n",
    "def greet(name):\n",
    "    print(f\"Hello {name}\")\n",
    "\n",
    "\n",
    "greet(\"World\")"
   ]
  },
  {
   "cell_type": "code",
   "execution_count": 6,
   "metadata": {},
   "outputs": [
    {
     "name": "stderr",
     "output_type": "stream",
     "text": [
      "\u001b[32m2024-06-11 00:21:16.736\u001b[0m | \u001b[32m\u001b[1mSUCCESS \u001b[0m | \u001b[36m__main__\u001b[0m:\u001b[36mstandard\u001b[0m:\u001b[36m50\u001b[0m - \u001b[32m\u001b[1mStarting standard with a=1\u001b[0m\n",
      "\u001b[32m2024-06-11 00:21:16.737\u001b[0m | \u001b[1mINFO    \u001b[0m | \u001b[36m__main__\u001b[0m:\u001b[36mstandard\u001b[0m:\u001b[36m51\u001b[0m - \u001b[1mFunction standard called with arg: 1\u001b[0m\n",
      "\u001b[32m2024-06-11 00:21:16.738\u001b[0m | \u001b[34m\u001b[1mDEBUG   \u001b[0m | \u001b[36m__main__\u001b[0m:\u001b[36mstandard\u001b[0m:\u001b[36m53\u001b[0m - \u001b[34m\u001b[1mFunction standard returning: 2\u001b[0m\n",
      "\u001b[32m2024-06-11 00:21:16.739\u001b[0m | \u001b[33m\u001b[1mWARNING \u001b[0m | \u001b[36m__main__\u001b[0m:\u001b[36mwrapper\u001b[0m:\u001b[36m12\u001b[0m - \u001b[33m\u001b[1mCurrent log level lg: Level(name='SUCCESS', no=25, color='<green><bold>', icon='✅')\u001b[0m\n",
      "\u001b[32m2024-06-11 00:21:16.740\u001b[0m | \u001b[33m\u001b[1mWARNING \u001b[0m | \u001b[36m__main__\u001b[0m:\u001b[36mwrapper\u001b[0m:\u001b[36m18\u001b[0m - \u001b[33m\u001b[1mSet log level to: DEBUG\u001b[0m\n",
      "\u001b[32m2024-06-11 00:21:16.748\u001b[0m | \u001b[33m\u001b[1mWARNING \u001b[0m | \u001b[36m__main__\u001b[0m:\u001b[36mwrapper\u001b[0m:\u001b[36m23\u001b[0m - \u001b[33m\u001b[1mFunc sample called with args=(1,) and kwargs={}\u001b[0m\n",
      "\u001b[32m2024-06-11 00:21:16.748\u001b[0m | \u001b[1mINFO    \u001b[0m | \u001b[36m__main__\u001b[0m:\u001b[36msample\u001b[0m:\u001b[36m43\u001b[0m - \u001b[1mFunction sample called with arg: 1\u001b[0m\n",
      "\u001b[32m2024-06-11 00:21:16.749\u001b[0m | \u001b[34m\u001b[1mDEBUG   \u001b[0m | \u001b[36m__main__\u001b[0m:\u001b[36msample\u001b[0m:\u001b[36m45\u001b[0m - \u001b[34m\u001b[1mFunction sample returning: 2\u001b[0m\n",
      "\u001b[32m2024-06-11 00:21:16.750\u001b[0m | \u001b[33m\u001b[1mWARNING \u001b[0m | \u001b[36m__main__\u001b[0m:\u001b[36mwrapper\u001b[0m:\u001b[36m27\u001b[0m - \u001b[33m\u001b[1mReset log level to: Level(name='SUCCESS', no=25, color='<green><bold>', icon='✅')\u001b[0m\n",
      "\u001b[32m2024-06-11 00:21:16.759\u001b[0m | \u001b[32m\u001b[1mSUCCESS \u001b[0m | \u001b[36m__main__\u001b[0m:\u001b[36mstandard\u001b[0m:\u001b[36m50\u001b[0m - \u001b[32m\u001b[1mStarting standard with a=1\u001b[0m\n",
      "\u001b[32m2024-06-11 00:21:16.760\u001b[0m | \u001b[33m\u001b[1mWARNING \u001b[0m | \u001b[36m__main__\u001b[0m:\u001b[36mwrapper\u001b[0m:\u001b[36m12\u001b[0m - \u001b[33m\u001b[1mCurrent log level lg: Level(name='SUCCESS', no=25, color='<green><bold>', icon='✅')\u001b[0m\n",
      "\u001b[32m2024-06-11 00:21:16.761\u001b[0m | \u001b[33m\u001b[1mWARNING \u001b[0m | \u001b[36m__main__\u001b[0m:\u001b[36mwrapper\u001b[0m:\u001b[36m18\u001b[0m - \u001b[33m\u001b[1mSet log level to: DEBUG\u001b[0m\n",
      "\u001b[32m2024-06-11 00:21:16.770\u001b[0m | \u001b[33m\u001b[1mWARNING \u001b[0m | \u001b[36m__main__\u001b[0m:\u001b[36mwrapper\u001b[0m:\u001b[36m23\u001b[0m - \u001b[33m\u001b[1mFunc sample called with args=(1,) and kwargs={}\u001b[0m\n",
      "\u001b[32m2024-06-11 00:21:16.771\u001b[0m | \u001b[1mINFO    \u001b[0m | \u001b[36m__main__\u001b[0m:\u001b[36msample\u001b[0m:\u001b[36m43\u001b[0m - \u001b[1mFunction sample called with arg: 1\u001b[0m\n",
      "\u001b[32m2024-06-11 00:21:16.772\u001b[0m | \u001b[34m\u001b[1mDEBUG   \u001b[0m | \u001b[36m__main__\u001b[0m:\u001b[36msample\u001b[0m:\u001b[36m45\u001b[0m - \u001b[34m\u001b[1mFunction sample returning: 2\u001b[0m\n",
      "\u001b[32m2024-06-11 00:21:16.773\u001b[0m | \u001b[33m\u001b[1mWARNING \u001b[0m | \u001b[36m__main__\u001b[0m:\u001b[36mwrapper\u001b[0m:\u001b[36m27\u001b[0m - \u001b[33m\u001b[1mReset log level to: Level(name='SUCCESS', no=25, color='<green><bold>', icon='✅')\u001b[0m\n",
      "\u001b[32m2024-06-11 00:21:16.779\u001b[0m | \u001b[32m\u001b[1mSUCCESS \u001b[0m | \u001b[36m__main__\u001b[0m:\u001b[36mstandard\u001b[0m:\u001b[36m50\u001b[0m - \u001b[32m\u001b[1mStarting standard with a=1\u001b[0m\n"
     ]
    },
    {
     "data": {
      "text/plain": [
       "2"
      ]
     },
     "execution_count": 6,
     "metadata": {},
     "output_type": "execute_result"
    }
   ],
   "source": [
    "import os\n",
    "import sys\n",
    "\n",
    "\n",
    "def log_leveller_with_args(level):\n",
    "    def decorator_log_leveller(func):\n",
    "\n",
    "        @wraps(func)\n",
    "        def wrapper(*args, **kwargs):\n",
    "            # save the current log level\n",
    "            current_level = lg.level(\"SUCCESS\")\n",
    "            lg.warning(f\"Current log level lg: {current_level}\")\n",
    "\n",
    "            # current_level = os.environ.get(\"LOGURU_LEVEL\", \"INFO\")\n",
    "            # lg.warning(f\"Current log level os: {current_level}\")\n",
    "\n",
    "            # # set the log level\n",
    "            lg.warning(f\"Set log level to: {level}\")\n",
    "            # os.environ[\"LOGURU_LEVEL\"] = level\n",
    "            lg.remove()\n",
    "            lg.add(sys.stderr, level=level.upper())\n",
    "\n",
    "            lg.warning(f\"Func {func.__name__} called with {args=} and {kwargs=}\")\n",
    "            ret = func(*args, **kwargs)\n",
    "\n",
    "            # # reset the log level\n",
    "            lg.warning(f\"Reset log level to: {current_level}\")\n",
    "            # os.environ[\"LOGURU_LEVEL\"] = current_level\n",
    "            lg.remove()\n",
    "            lg.add(sys.stderr, level=current_level.name.upper())\n",
    "\n",
    "            return ret\n",
    "\n",
    "        return wrapper\n",
    "\n",
    "    return decorator_log_leveller\n",
    "\n",
    "\n",
    "@log_leveller_with_args(level=\"DEBUG\")\n",
    "# @log_leveller_with_args(level=\"INFO\")\n",
    "# @log_leveller_with_args(level=\"WARNING\")\n",
    "def sample(a: int) -> int:\n",
    "    lg.info(f\"Function sample called with arg: {a}\")\n",
    "    b = a + 1\n",
    "    lg.debug(f\"Function sample returning: {b}\")\n",
    "    return b\n",
    "\n",
    "\n",
    "def standard(a=1):\n",
    "    lg.success(f\"Starting standard with {a=}\")\n",
    "    lg.info(f\"Function standard called with arg: {a}\")\n",
    "    b = a + 1\n",
    "    lg.debug(f\"Function standard returning: {b}\")\n",
    "    return b\n",
    "\n",
    "\n",
    "standard(1)\n",
    "sample(1)\n",
    "standard(1)\n",
    "sample(1)\n",
    "standard(1)"
   ]
  },
  {
   "cell_type": "code",
   "execution_count": 7,
   "metadata": {},
   "outputs": [],
   "source": [
    "# lg._core.handlers\n",
    "# {28: (id=28, level=25, sink=stderr)}\n",
    "# list(lg._core.handlers.items())[0][1]._sink"
   ]
  },
  {
   "cell_type": "code",
   "execution_count": 16,
   "metadata": {},
   "outputs": [
    {
     "name": "stderr",
     "output_type": "stream",
     "text": [
      "\u001b[32m2024-06-11 00:23:56.527\u001b[0m | \u001b[33m\u001b[1mWARNING \u001b[0m | \u001b[36m__main__\u001b[0m:\u001b[36m<module>\u001b[0m:\u001b[36m5\u001b[0m - \u001b[33m\u001b[1mStarting\u001b[0m\n",
      "\u001b[32m2024-06-11 00:23:56.528\u001b[0m | \u001b[32m\u001b[1mSUCCESS \u001b[0m | \u001b[36m__main__\u001b[0m:\u001b[36mstandard\u001b[0m:\u001b[36m50\u001b[0m - \u001b[32m\u001b[1mStarting standard with a=1\u001b[0m\n",
      "\u001b[32m2024-06-11 00:23:56.530\u001b[0m | \u001b[32m\u001b[1mSUCCESS \u001b[0m | \u001b[36mmod\u001b[0m:\u001b[36mstandard_mod\u001b[0m:\u001b[36m9\u001b[0m - \u001b[32m\u001b[1mStarting standard with a=1\u001b[0m\n",
      "\u001b[32m2024-06-11 00:23:56.530\u001b[0m | \u001b[32m\u001b[1mSUCCESS \u001b[0m | \u001b[36mmod\u001b[0m:\u001b[36manother_mod\u001b[0m:\u001b[36m17\u001b[0m - \u001b[32m\u001b[1mStarting another with a=1\u001b[0m\n",
      "\u001b[32m2024-06-11 00:23:56.531\u001b[0m | \u001b[33m\u001b[1mWARNING \u001b[0m | \u001b[36m__main__\u001b[0m:\u001b[36m<module>\u001b[0m:\u001b[36m10\u001b[0m - \u001b[33m\u001b[1mDisabling standard_mod\u001b[0m\n",
      "\u001b[32m2024-06-11 00:23:56.531\u001b[0m | \u001b[32m\u001b[1mSUCCESS \u001b[0m | \u001b[36m__main__\u001b[0m:\u001b[36mstandard\u001b[0m:\u001b[36m50\u001b[0m - \u001b[32m\u001b[1mStarting standard with a=1\u001b[0m\n",
      "\u001b[32m2024-06-11 00:23:56.532\u001b[0m | \u001b[33m\u001b[1mWARNING \u001b[0m | \u001b[36m__main__\u001b[0m:\u001b[36m<module>\u001b[0m:\u001b[36m18\u001b[0m - \u001b[33m\u001b[1mEnabling standard_mod\u001b[0m\n",
      "\u001b[32m2024-06-11 00:23:56.533\u001b[0m | \u001b[32m\u001b[1mSUCCESS \u001b[0m | \u001b[36m__main__\u001b[0m:\u001b[36mstandard\u001b[0m:\u001b[36m50\u001b[0m - \u001b[32m\u001b[1mStarting standard with a=1\u001b[0m\n",
      "\u001b[32m2024-06-11 00:23:56.534\u001b[0m | \u001b[32m\u001b[1mSUCCESS \u001b[0m | \u001b[36mmod\u001b[0m:\u001b[36mstandard_mod\u001b[0m:\u001b[36m9\u001b[0m - \u001b[32m\u001b[1mStarting standard with a=1\u001b[0m\n",
      "\u001b[32m2024-06-11 00:23:56.534\u001b[0m | \u001b[32m\u001b[1mSUCCESS \u001b[0m | \u001b[36mmod\u001b[0m:\u001b[36manother_mod\u001b[0m:\u001b[36m17\u001b[0m - \u001b[32m\u001b[1mStarting another with a=1\u001b[0m\n"
     ]
    },
    {
     "data": {
      "text/plain": [
       "2"
      ]
     },
     "execution_count": 16,
     "metadata": {},
     "output_type": "execute_result"
    }
   ],
   "source": [
    "from mod import standard_mod, another_mod\n",
    "\n",
    "# from mod import standard_mod\n",
    "\n",
    "lg.warning(\"Starting\")\n",
    "standard(1)\n",
    "standard_mod(1)\n",
    "another_mod(1)\n",
    "\n",
    "lg.warning(\"Disabling standard_mod\")\n",
    "# lg.disable(\"__main__:standard\")\n",
    "lg.disable(\"mod\")\n",
    "# lg.disable(\"mod.standard_mod\")\n",
    "standard(1)\n",
    "standard_mod(1)\n",
    "another_mod(1)\n",
    "\n",
    "lg.warning(\"Enabling standard_mod\")\n",
    "# lg.enable(\"__main__:standard\")\n",
    "lg.enable(\"mod\")\n",
    "# lg.enable(\"mod.standard_mod\")\n",
    "standard(1)\n",
    "standard_mod(1)\n",
    "another_mod(1)"
   ]
  },
  {
   "cell_type": "code",
   "execution_count": 9,
   "metadata": {},
   "outputs": [],
   "source": [
    "# from mod import standard_mod\n",
    "from mod import standard_mod, another_mod\n",
    "\n",
    "# from mod import test"
   ]
  }
 ],
 "metadata": {
  "kernelspec": {
   "display_name": "be-3ZtQLT1j-py3.11",
   "language": "python",
   "name": "python3"
  },
  "language_info": {
   "codemirror_mode": {
    "name": "ipython",
    "version": 3
   },
   "file_extension": ".py",
   "mimetype": "text/x-python",
   "name": "python",
   "nbconvert_exporter": "python",
   "pygments_lexer": "ipython3",
   "version": "3.11.9"
  }
 },
 "nbformat": 4,
 "nbformat_minor": 2
}
