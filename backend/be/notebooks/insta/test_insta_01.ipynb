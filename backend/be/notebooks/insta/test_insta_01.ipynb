{
 "cells": [
  {
   "cell_type": "code",
   "execution_count": null,
   "metadata": {},
   "outputs": [],
   "source": [
    "%load_ext autoreload\n",
    "%autoreload 2"
   ]
  },
  {
   "cell_type": "code",
   "execution_count": null,
   "metadata": {},
   "outputs": [],
   "source": [
    "from time import sleep\n",
    "\n",
    "from be.social.insta.loader import InstaLoader\n",
    "from be.social.insta.structures import PostIg, ProfileIg\n",
    "from loguru import logger as lg"
   ]
  },
  {
   "cell_type": "code",
   "execution_count": null,
   "metadata": {},
   "outputs": [],
   "source": [
    "il = InstaLoader(\"\")\n",
    "# il.login()"
   ]
  },
  {
   "cell_type": "code",
   "execution_count": null,
   "metadata": {},
   "outputs": [],
   "source": [
    "shortcodes = [\n",
    "    # \"CsEj0n9Kefd\",\n",
    "    # \"Cs6ol1rLW89\",\n",
    "    # \"CoUB45hoBz7\",\n",
    "    # \"CqItmaJuUdW\",\n",
    "    # \"CskaF_Jp1KZ\",\n",
    "    # \"Csy2EUpIT2_\",\n",
    "    # \"CsDxQP8oA3i\",\n",
    "    # \"Cp6B1qHo7rl\",\n",
    "    # \"CrnlN0dIuDS\",\n",
    "    # \"CstftTEKSho\",\n",
    "    # \"CoUB45hoBz7\",\n",
    "    # \"CqItmaJuUdW\",\n",
    "    # \"Cs6ol1rLW89\",\n",
    "    # \"Csy2EUpIT2_\",\n",
    "    # \"CsDxQP8oA3i\",\n",
    "    # \"Cp6B1qHo7rl\",\n",
    "    # \"CrnlN0dIuDS\",\n",
    "    # \"CrQbYxRO8g4\",\n",
    "    # \"CrBNMx8M9ir\",\n",
    "    # \"CtZtmm_KzA6\",\n",
    "    # \"CtrtcfSsn69\",\n",
    "    # \"CsYcWGVI9Cs\",\n",
    "    # \"Cr5bSTcuubG\",\n",
    "    # \"CtcYRJ6o445\",\n",
    "    # \"CsT_BlPOAly\",\n",
    "    # \"CstftTEKSho\",\n",
    "    # \"CtZXvSRIapi\",\n",
    "    # \"Cs1U5k5ogR2\",\n",
    "    # \"CrYPxbtpu2H\",\n",
    "    # \"Cstl1IdqCu5\",\n",
    "    # \"CsYc6rxodtb\",\n",
    "    # \"CsrPrGnJpAl\",\n",
    "    # \"Cs4GgQsq_Ua\",\n",
    "    # \"CtbyTZmriMa\",\n",
    "    # \"Cq8Luh3IU6c\",\n",
    "    # \"CsgswoNoV_b\",\n",
    "    # \"CrlCRzGgR0L\",\n",
    "    # \"CrdLyU0AfiO\",\n",
    "    # \"CrkygSsIh7z\",\n",
    "    # \"CqqQrvpJQ8r\",\n",
    "    # \"Cpu9uurj0e_\",\n",
    "    # \"CsgYIeIKSDr\",\n",
    "    # \"Cq-O8UzJetX\",\n",
    "    # \"CqLhwy8D08V\",\n",
    "    # \"CrLf93Pg1R_\",\n",
    "    # \"CsjYVt_qApY\",\n",
    "    # \"CsY-6JZgovY\",\n",
    "    # \"CpnZvenjmlQ\",\n",
    "    # \"CqS_EzDq73T\",\n",
    "    # \"CsEj0n9Kefd\",\n",
    "    # \"CqK7FhTje55\",\n",
    "]\n",
    "\n",
    "for sc in shortcodes:\n",
    "    print(f\"{sc=}\")\n",
    "\n",
    "    if PostIg.has_json(sc):\n",
    "        print(f\"Post {sc} exists in cache.\")\n",
    "        continue\n",
    "\n",
    "    break\n",
    "\n",
    "    ps = il.load_post(sc)\n",
    "    pf = il.load_profile(ps.profile)\n",
    "\n",
    "    # break\n",
    "    sleep(6)\n",
    "\n",
    "    # print(ps)\n",
    "    # print(pf)"
   ]
  },
  {
   "cell_type": "code",
   "execution_count": null,
   "metadata": {},
   "outputs": [],
   "source": [
    "# un = \"cafemaddy\"\n",
    "\n",
    "# prof = il._load_profile(un)\n",
    "# prof.external_url\n",
    "# prof.profile_pic_url\n",
    "# prof.full_name\n",
    "\n",
    "# profig = il.load_profile(un)\n",
    "# profig.full_name, profig.userid"
   ]
  },
  {
   "cell_type": "code",
   "execution_count": null,
   "metadata": {},
   "outputs": [],
   "source": [
    "shortcodes_raw = [\n",
    "    \"https://www.instagram.com/reel/CsIvL__g2mk/? Food Dahl di lenticchie rosse\",\n",
    "    \"https://www.instagram.com/reel/Cr26_3tKZ_c/? Food cotolette di ceci - 200g ceci cotti 3-4 cucchiai fecola di patate q.b. sale/ pepe prezzemolo limone , mescola tutto , impana nell'uovo e passa nei cornflakes, 7 minuti in padella per lato\",\n",
    "    \"https://www.instagram.com/reel/Cr_Pq9rMeto/? Food melanzane alla feta, fai le melanzane al forno, le pieghi intorno alla feta, impani e passi in padella\",\n",
    "    \"https://www.instagram.com/reel/CrWYxR2gDjJ/? food gnocchi di ceci con ceci 250 e farina 70 e olio 30 e basta li cucini\",\n",
    "    \"https://www.instagram.com/reel/CpklGYbvj3_/? Food polpette di lenticchie\",\n",
    "    \"https://www.instagram.com/reel/Cq-488lAU2d/? food gelato alla banana, latte vaniglia, copri con cioccolato fuso e congela\",\n",
    "    \"https://www.instagram.com/reel/CrLN0ZGAQC0/? food mini tarte tatin con pomodorini e burrata\",\n",
    "    \"https://www.instagram.com/reel/Cq8YNtGI3za/? Food involtini primavera con pasta fillo\",\n",
    "    \"https://www.instagram.com/reel/Cp2H1tJIXbx/? frittella di zucchine e uovo, poi metti Philadelphia e salmone e arrotola\",\n",
    "    \"https://www.instagram.com/reel/CqK1NJqjw0q/? Food toast di broccoli, avena yogurt broccoli uovo , metti in griglia, aggiungi fetta di formaggio e ripassi\",\n",
    "    # \"https://www.instagram.com/reel/CoVLY2bLUC5/? food spicy salmon rice muffins\",\n",
    "    \"https://www.instagram.com/reel/Cs3kc0fKLyi/? Corn fritters\",\n",
    "    # \"https://www.instagram.com/reel/CpNeoNZjQXJ/? Food pancake di verdure ma fancy perché in centro ci mettiamo un tuorlo\",\n",
    "    \"https://www.instagram.com/reel/CoCCxFoJLXT/? food tofu schnitzel cotoletta\",\n",
    "    \"https://www.instagram.com/reel/CraluLygqmj/? food coleslaw yogurt maionese senape miele limone, cavolo cappuccio, viola e carote\",\n",
    "    \"https://www.instagram.com/reel/CoFt6pUJggN/? food super Korean sauce skewers\",\n",
    "    \"https://www.instagram.com/reel/CrAy8A_AAtR/? Food mini croissant super easy\",\n",
    "    \"https://www.instagram.com/reel/Crvz_yrIaOL/? Food udon verdure primaverili\",\n",
    "    \"https://www.instagram.com/reel/CqlhRL6q_vI/? food whipped tofu just blend it with a couple spoon of milk\",\n",
    "    \"https://www.instagram.com/reel/CqoJt2tJ0mG/? food tofu cream cheese, tofu cashew lemon vinegar miso salt, blend it\",\n",
    "    \"https://www.instagram.com/reel/Crb5WY7ujsP/? food sushi pocket wrap hack\",\n",
    "    \"https://www.instagram.com/reel/CrNYFEkJ4L3/? Food teriyaki tofu sushi wrap Hack\",\n",
    "    \"https://www.instagram.com/reel/Cq-_Gfzu2bb/? Food wonton chili sauce\",\n",
    "    \"https://www.instagram.com/reel/CsQx5Lvo6-s/? Food polpette di zucchine in padella\",\n",
    "    \"https://www.instagram.com/reel/CnkVfM-gRM7/? food tofu sushi rice paper dumpling in air fryer\",\n",
    "    \"https://www.instagram.com/reel/CqFq_OTNyk-/? Food brownies banana uova lievito cacao, 2 min in microonde\",\n",
    "    \"https://www.instagram.com/reel/Crv_k3XMnWc/? food brownie alle mele, mela , uovo , cacao amaro , lievito , 4 minuti di microonde\",\n",
    "    \"https://www.instagram.com/reel/Cq07fUzKa57/? Food teriyaki fried noodles easy ingredients\",\n",
    "    \"https://www.instagram.com/reel/CmTbiZrMTT3/? food pasta fresca con spinaci e farina super veloce\",\n",
    "]"
   ]
  },
  {
   "cell_type": "code",
   "execution_count": null,
   "metadata": {},
   "outputs": [],
   "source": [
    "from pathlib import Path\n",
    "\n",
    "shortcodes_fn = \"shortcode_list.txt\"\n",
    "shortcodes_fp = Path(shortcodes_fn)\n",
    "\n",
    "shortcodes_raw = shortcodes_fp.read_text().splitlines()\n",
    "shortcodes_raw"
   ]
  },
  {
   "cell_type": "code",
   "execution_count": null,
   "metadata": {},
   "outputs": [],
   "source": [
    "# extract the shortcode from the url\n",
    "\n",
    "import re\n",
    "\n",
    "from instaloader import BadResponseException\n",
    "\n",
    "shortcodes = []\n",
    "\n",
    "for input_str in shortcodes_raw:\n",
    "    # print(f\"{input_str=}\")\n",
    "    url_match = re.findall(r\"(?P<url>https?://[^\\s]+)\", input_str)\n",
    "    if not url_match:\n",
    "        print(f\"No match {input_str=}\")\n",
    "        continue\n",
    "    url = url_match[0]\n",
    "    print(f\"{url=}\")\n",
    "    url_pieces = url.split(\"/\")\n",
    "    if len(url_pieces) < 5:\n",
    "        print(f\"Skipping {url=} {url_pieces=}\")\n",
    "        continue\n",
    "    type_content = url_pieces[-3]\n",
    "    print(f\"{type_content=}\")\n",
    "    site = url.split(\"/\")[-4]\n",
    "    print(f\"{site=}\")\n",
    "    shortcode = url.split(\"/\")[-2]\n",
    "    print(f\"{shortcode=}\")\n",
    "\n",
    "    if site != \"www.instagram.com\":\n",
    "        print(f\"Skipping {site=} {url=}\")\n",
    "        continue\n",
    "\n",
    "    if type_content != \"reel\":\n",
    "        print(f\"Skipping {type_content=} {url=}\")\n",
    "        continue\n",
    "\n",
    "    # print()\n",
    "    shortcodes.append(shortcode)\n",
    "\n",
    "    # break"
   ]
  },
  {
   "cell_type": "code",
   "execution_count": null,
   "metadata": {},
   "outputs": [],
   "source": [
    "shortcodes"
   ]
  },
  {
   "cell_type": "code",
   "execution_count": null,
   "metadata": {},
   "outputs": [],
   "source": [
    "from random import randint\n",
    "\n",
    "for si, shortcode in enumerate(shortcodes):\n",
    "    lg.info(f\"{si}/{len(shortcodes)}, {shortcode=}\")\n",
    "    if PostIg.has_json(shortcode):\n",
    "        lg.info(f\"Post {shortcode} exists in cache.\")\n",
    "        continue\n",
    "\n",
    "    try:\n",
    "        ps = il.load_post(shortcode)\n",
    "    except BadResponseException as e:\n",
    "        lg.warning(f\"Bad response for {shortcode}\")\n",
    "        continue\n",
    "\n",
    "    pf = il.load_profile(ps.profile)\n",
    "\n",
    "    # break\n",
    "\n",
    "    sleep(6)\n",
    "    # random sleep to avoid being banned\n",
    "    sleep(randint(1, 5))\n",
    "\n",
    "    # print(ps)\n",
    "    # print(pf)"
   ]
  },
  {
   "cell_type": "code",
   "execution_count": null,
   "metadata": {},
   "outputs": [],
   "source": [
    "# how are posts downloaded?\n",
    "# https://www.instagram.com/p/CskaF_Jp1KZ/? Food polpette di ceci con cous cous\n",
    "# https://www.instagram.com/p/CslRXb3oY_R/? Food focaccia frittatosa in forno\n",
    "# https://www.instagram.com/p/Ctjl-24sH83/? Food focaccine di patate"
   ]
  },
  {
   "attachments": {},
   "cell_type": "markdown",
   "metadata": {},
   "source": [
    "### Dump the shortcodes into the database\n"
   ]
  },
  {
   "cell_type": "code",
   "execution_count": null,
   "metadata": {},
   "outputs": [],
   "source": [
    "API_BASE_URL = \"http://127.0.0.1:8000\"\n",
    "API_PATH_SC = \"/recipe_shortcode/\"\n",
    "\n",
    "import requests\n",
    "\n",
    "for shortcode in shortcodes:\n",
    "    # send shortcode as query parameter\n",
    "    url = f\"{API_BASE_URL}{API_PATH_SC}?shortcode={shortcode}\"\n",
    "    print(f\"{url=}\")\n",
    "\n",
    "    # send post request\n",
    "    r = requests.post(url)\n",
    "    print(f\"{r=}\")\n",
    "\n",
    "    # print the content of the response, after converting it to json\n",
    "    c = r.json()\n",
    "    print(f\"{c=}\")\n",
    "    print(f\"{list(c.keys())=}\")\n",
    "    print(f\"{c['shortcode']=}\")\n",
    "\n",
    "    # break"
   ]
  },
  {
   "attachments": {},
   "cell_type": "markdown",
   "metadata": {},
   "source": [
    "### Load recipes from the database\n"
   ]
  },
  {
   "cell_type": "code",
   "execution_count": null,
   "metadata": {},
   "outputs": [],
   "source": [
    "# @app.get(\"/recipes/\", response_model=list[RecipeRead])\n",
    "# def read_recipes(\n",
    "#     *,\n",
    "#     session: Session = Depends(get_session),\n",
    "#     offset: int = 0,\n",
    "#     limit: int = Query(default=100, lte=100),\n",
    "\n",
    "# create url with offset and limit\n",
    "offset = 1\n",
    "limit = 4\n",
    "url = f\"{API_BASE_URL}/recipes/?offset={offset}&limit={limit}\"\n",
    "r = requests.get(url)\n",
    "\n",
    "# print the content of the response, after converting it to json\n",
    "c = r.json()\n",
    "# print(f\"{c=}\")\n",
    "for rec in c:\n",
    "    print(f\"{rec['title']=}\")"
   ]
  },
  {
   "attachments": {},
   "cell_type": "markdown",
   "metadata": {},
   "source": [
    "### Count recipes in the database\n"
   ]
  },
  {
   "cell_type": "code",
   "execution_count": null,
   "metadata": {},
   "outputs": [],
   "source": [
    "from be.app.crud import get_number_of_recipes\n",
    "from be.app.database import get_session\n",
    "from be.app.sqlmodels.Recipe import Recipe\n",
    "\n",
    "session_gen = get_session()\n",
    "\n",
    "for session in session_gen:\n",
    "    rows = session.query(Recipe.shortcode).count()\n",
    "    print(rows)\n",
    "\n",
    "    rows = get_number_of_recipes(session)\n",
    "    print(rows)"
   ]
  }
 ],
 "metadata": {
  "kernelspec": {
   "display_name": "be-3ZtQLT1j-py3.11",
   "language": "python",
   "name": "python3"
  },
  "language_info": {
   "codemirror_mode": {
    "name": "ipython",
    "version": 3
   },
   "file_extension": ".py",
   "mimetype": "text/x-python",
   "name": "python",
   "nbconvert_exporter": "python",
   "pygments_lexer": "ipython3",
   "version": "3.11.3"
  },
  "orig_nbformat": 4
 },
 "nbformat": 4,
 "nbformat_minor": 2
}
