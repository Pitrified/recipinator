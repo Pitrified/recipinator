{
 "cells": [
  {
   "cell_type": "markdown",
   "metadata": {},
   "source": [
    "# Transcribe the post content into a text file\n"
   ]
  },
  {
   "cell_type": "code",
   "execution_count": null,
   "metadata": {},
   "outputs": [],
   "source": [
    "%load_ext autoreload\n",
    "%autoreload 2"
   ]
  },
  {
   "cell_type": "code",
   "execution_count": null,
   "metadata": {},
   "outputs": [],
   "source": [
    "from be.data.utils import get_resource\n",
    "from loguru import logger as lg\n",
    "import whisper\n",
    "from pathlib import Path\n",
    "from pydub import AudioSegment\n",
    "from whisper import Whisper"
   ]
  },
  {
   "cell_type": "code",
   "execution_count": null,
   "metadata": {},
   "outputs": [],
   "source": [
    "posts_fol = get_resource(\"ig_fol\") / \"posts\""
   ]
  },
  {
   "cell_type": "code",
   "execution_count": null,
   "metadata": {},
   "outputs": [],
   "source": [
    "whisper.available_models()"
   ]
  },
  {
   "cell_type": "code",
   "execution_count": null,
   "metadata": {},
   "outputs": [],
   "source": [
    "model_type = \"medium\"\n",
    "# model_type = \"medium.en\"\n",
    "# model_type = \"large-v3\"\n",
    "model = whisper.load_model(model_type)"
   ]
  },
  {
   "cell_type": "code",
   "execution_count": null,
   "metadata": {},
   "outputs": [],
   "source": [
    "def extract_audio(video_fp: Path, audio_fp: Path, audio_format: str = \"mp3\") -> None:\n",
    "    video_format = video_fp.suffix[1:]\n",
    "    video = AudioSegment.from_file(video_fp, format=video_format)\n",
    "    audio = video.set_channels(1).set_frame_rate(16000).set_sample_width(2)\n",
    "    audio.export(audio_fp, format=audio_format)"
   ]
  },
  {
   "cell_type": "code",
   "execution_count": null,
   "metadata": {},
   "outputs": [],
   "source": [
    "def extract_text(audio_fp: Path, model: Whisper) -> str:\n",
    "    result = model.transcribe(str(audio_fp))\n",
    "    return result[\"text\"]"
   ]
  },
  {
   "cell_type": "code",
   "execution_count": null,
   "metadata": {},
   "outputs": [],
   "source": [
    "for post_fol in posts_fol.iterdir():\n",
    "    lg.info(post_fol)\n",
    "\n",
    "    video_fp = post_fol / \"p_video_url.mp4\"\n",
    "    if not video_fp.exists():\n",
    "        lg.warning(f\"Video not found: {video_fp}\")\n",
    "        continue\n",
    "\n",
    "    transcript_fp = post_fol / f\"p_transcript_{model_type}.txt\"\n",
    "    if transcript_fp.exists():\n",
    "        lg.info(f\"Transcript already exists: {transcript_fp}\")\n",
    "        continue\n",
    "\n",
    "    audio_fp = post_fol / \"p_audio.mp3\"\n",
    "    extract_audio(video_fp, audio_fp)\n",
    "\n",
    "    text = extract_text(audio_fp, model)\n",
    "    transcript_fp.write_text(text)\n",
    "\n",
    "    break"
   ]
  },
  {
   "cell_type": "code",
   "execution_count": null,
   "metadata": {},
   "outputs": [],
   "source": []
  }
 ],
 "metadata": {
  "kernelspec": {
   "display_name": "be-3ZtQLT1j-py3.11",
   "language": "python",
   "name": "python3"
  },
  "language_info": {
   "codemirror_mode": {
    "name": "ipython",
    "version": 3
   },
   "file_extension": ".py",
   "mimetype": "text/x-python",
   "name": "python",
   "nbconvert_exporter": "python",
   "pygments_lexer": "ipython3",
   "version": "3.11.9"
  }
 },
 "nbformat": 4,
 "nbformat_minor": 2
}
